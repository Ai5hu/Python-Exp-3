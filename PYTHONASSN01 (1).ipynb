{
 "cells": [
  {
   "cell_type": "code",
   "execution_count": 2,
   "id": "fd8cab0c-51fa-45ef-8ef2-2269c581f455",
   "metadata": {},
   "outputs": [
    {
     "name": "stdout",
     "output_type": "stream",
     "text": [
      "\n",
      "1. Add Product\n",
      "2. Update Stock\n",
      "3. View Product\n",
      "4. Exit\n"
     ]
    },
    {
     "name": "stdin",
     "output_type": "stream",
     "text": [
      "Enter your choice:  1\n",
      "Enter product name:  LAPTOP\n",
      "Enter product price:  50000\n",
      "Enter product stock:  15\n"
     ]
    },
    {
     "name": "stdout",
     "output_type": "stream",
     "text": [
      "Product added successfully!\n",
      "\n",
      "1. Add Product\n",
      "2. Update Stock\n",
      "3. View Product\n",
      "4. Exit\n"
     ]
    },
    {
     "name": "stdin",
     "output_type": "stream",
     "text": [
      "Enter your choice:  3\n",
      "Enter product name:  LAPTOP\n"
     ]
    },
    {
     "name": "stdout",
     "output_type": "stream",
     "text": [
      "Product: LAPTOP, Price: $50000.00, Stock: 15\n",
      "\n",
      "1. Add Product\n",
      "2. Update Stock\n",
      "3. View Product\n",
      "4. Exit\n"
     ]
    },
    {
     "name": "stdin",
     "output_type": "stream",
     "text": [
      "Enter your choice:  2\n",
      "Enter product name to update:  LAPTOP\n",
      "Enter quantity to add/remove:  20\n"
     ]
    },
    {
     "name": "stdout",
     "output_type": "stream",
     "text": [
      "Stock updated successfully!\n",
      "\n",
      "1. Add Product\n",
      "2. Update Stock\n",
      "3. View Product\n",
      "4. Exit\n"
     ]
    },
    {
     "name": "stdin",
     "output_type": "stream",
     "text": [
      "Enter your choice:  3\n",
      "Enter product name:  LAPTOP\n"
     ]
    },
    {
     "name": "stdout",
     "output_type": "stream",
     "text": [
      "Product: LAPTOP, Price: $50000.00, Stock: 35\n",
      "\n",
      "1. Add Product\n",
      "2. Update Stock\n",
      "3. View Product\n",
      "4. Exit\n"
     ]
    },
    {
     "name": "stdin",
     "output_type": "stream",
     "text": [
      "Enter your choice:  4\n"
     ]
    },
    {
     "name": "stdout",
     "output_type": "stream",
     "text": [
      "Exiting the system. Goodbye!\n"
     ]
    }
   ],
   "source": [
    "class Product:\n",
    "    def __init__(self, name, price, stock):\n",
    "        self.name = name\n",
    "        self.price = price\n",
    "        self.stock = stock\n",
    "\n",
    "    def update_stock(self, quantity):\n",
    "        self.stock += quantity\n",
    "        print(\"Stock updated successfully!\")\n",
    "\n",
    "    def __str__(self):\n",
    "        return f\"Product: {self.name}, Price: ${self.price:.2f}, Stock: {self.stock}\"\n",
    "\n",
    "\n",
    "# Dictionary to store products\n",
    "products = {}\n",
    "\n",
    "def add_product():\n",
    "    name = input(\"Enter product name: \")\n",
    "    price = float(input(\"Enter product price: \"))\n",
    "    stock = int(input(\"Enter product stock: \"))\n",
    "    products[name] = Product(name, price, stock)\n",
    "    print(\"Product added successfully!\")\n",
    "\n",
    "def update_stock():\n",
    "    name = input(\"Enter product name to update: \")\n",
    "    if name in products:\n",
    "        quantity = int(input(\"Enter quantity to add/remove: \"))\n",
    "        products[name].update_stock(quantity)\n",
    "    else:\n",
    "        print(\"Product not found!\")\n",
    "\n",
    "def view_product():\n",
    "    name = input(\"Enter product name: \")\n",
    "    if name in products:\n",
    "        print(products[name])\n",
    "    else:\n",
    "        print(\"Product not found!\")\n",
    "\n",
    "def main():\n",
    "    while True:\n",
    "        print(\"\\n1. Add Product\\n2. Update Stock\\n3. View Product\\n4. Exit\")\n",
    "        choice = input(\"Enter your choice: \")\n",
    "\n",
    "        if choice == '1':\n",
    "            add_product()\n",
    "        elif choice == '2':\n",
    "            update_stock()\n",
    "        elif choice == '3':\n",
    "            view_product()\n",
    "        elif choice == '4':\n",
    "            print(\"Exiting the system. Goodbye!\")\n",
    "            break\n",
    "        else:\n",
    "            print(\"Invalid choice! Please try again.\")\n",
    "\n",
    "if __name__ == \"__main__\":\n",
    "    main()\n"
   ]
  },
  {
   "cell_type": "code",
   "execution_count": null,
   "id": "5a87ad7f-016d-4ec1-b567-f64b4ef47558",
   "metadata": {},
   "outputs": [],
   "source": []
  }
 ],
 "metadata": {
  "kernelspec": {
   "display_name": "Python 3 (ipykernel)",
   "language": "python",
   "name": "python3"
  },
  "language_info": {
   "codemirror_mode": {
    "name": "ipython",
    "version": 3
   },
   "file_extension": ".py",
   "mimetype": "text/x-python",
   "name": "python",
   "nbconvert_exporter": "python",
   "pygments_lexer": "ipython3",
   "version": "3.13.1"
  }
 },
 "nbformat": 4,
 "nbformat_minor": 5
}
