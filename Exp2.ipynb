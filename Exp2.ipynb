{
 "cells": [
  {
   "cell_type": "code",
   "execution_count": 14,
   "id": "9bada3d9-19ec-49e5-9102-d4b73fa68d5e",
   "metadata": {},
   "outputs": [
    {
     "name": "stdout",
     "output_type": "stream",
     "text": [
      "True\n"
     ]
    }
   ],
   "source": [
    "\n",
    "\n",
    "\n",
    "\n",
    "class conditionalStatements:\n",
    "    def checkString (s : str) -> bool:\n",
    "        value = False\n",
    "        for char in s:\n",
    "            if char == 'b':\n",
    "                value = True\n",
    "            elif char == 'a' and value:\n",
    "                 return False\n",
    "        return True\n",
    "    input_str = \"abbbb\"\n",
    "    result = checkString(input_str)\n",
    "    print(result)\n"
   ]
  },
  {
   "cell_type": "code",
   "execution_count": null,
   "id": "f45ab7d5-9616-4159-96ce-d1fb0993c891",
   "metadata": {},
   "outputs": [],
   "source": []
  }
 ],
 "metadata": {
  "kernelspec": {
   "display_name": "Python 3 (ipykernel)",
   "language": "python",
   "name": "python3"
  },
  "language_info": {
   "codemirror_mode": {
    "name": "ipython",
    "version": 3
   },
   "file_extension": ".py",
   "mimetype": "text/x-python",
   "name": "python",
   "nbconvert_exporter": "python",
   "pygments_lexer": "ipython3",
   "version": "3.12.5"
  }
 },
 "nbformat": 4,
 "nbformat_minor": 5
}
